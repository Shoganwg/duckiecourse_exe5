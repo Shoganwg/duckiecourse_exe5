{
 "cells": [
  {
   "cell_type": "code",
   "execution_count": 2,
   "id": "8ab0076c-ecee-4c3e-9860-9730a9a23b42",
   "metadata": {},
   "outputs": [
    {
     "data": {
      "text/plain": [
       "359"
      ]
     },
     "execution_count": 2,
     "metadata": {},
     "output_type": "execute_result"
    }
   ],
   "source": [
    "br_deg1, br_deg2 = 2,1\n",
    "\n",
    "if br_deg2 >= br_deg1:\n",
    "    deltdg = br_deg2 - br_deg1\n",
    "elif br_deg2 < br_deg1:\n",
    "    deltdg = 360 - (br_deg1 - br_deg2)  \n",
    "    \n",
    "deltdg  \n",
    "\n"
   ]
  },
  {
   "cell_type": "code",
   "execution_count": 4,
   "id": "c7aada4b-899e-49a6-9a33-5876d09cd4d9",
   "metadata": {},
   "outputs": [
    {
     "name": "stderr",
     "output_type": "stream",
     "text": [
      "DEBUG:commons:version: 6.2.4 *\n",
      "DEBUG:typing:version: 6.2.3\n"
     ]
    },
    {
     "data": {
      "text/plain": [
       "\u001b[31mPS2\u001b[0m\u001b[34m(\u001b[0m\u001b[2me\u001b[0m\u001b[34m=\u001b[0m1.1\u001b[34m, \u001b[0m\u001b[2mbounds\u001b[0m\u001b[34m=\u001b[0m2.0\u001b[34m)\u001b[0m"
      ]
     },
     "execution_count": 4,
     "metadata": {},
     "output_type": "execute_result"
    }
   ],
   "source": [
    "from zuper_typing import dataclass\n",
    "\n",
    "@dataclass\n",
    "class M2:\n",
    "    e: float\n",
    "\n",
    "\n",
    "@dataclass\n",
    "class PS2(M2):\n",
    "    bounds: float\n",
    "    \n",
    "t1 = PS2(e=1.1, bounds=2.0)\n",
    "t1"
   ]
  },
  {
   "cell_type": "code",
   "execution_count": 7,
   "id": "5b537465-2a8e-4a74-8063-32404985d0cf",
   "metadata": {},
   "outputs": [
    {
     "data": {
      "text/plain": [
       "(2, 3, 2)"
      ]
     },
     "execution_count": 7,
     "metadata": {},
     "output_type": "execute_result"
    }
   ],
   "source": [
    "round(2.22), round(2.9), round(2.5)"
   ]
  },
  {
   "cell_type": "code",
   "execution_count": 9,
   "id": "d47dc43d-a5d2-440e-bff3-5106534201aa",
   "metadata": {},
   "outputs": [
    {
     "data": {
      "text/plain": [
       "(2, 2, 2)"
      ]
     },
     "execution_count": 9,
     "metadata": {},
     "output_type": "execute_result"
    }
   ],
   "source": [
    "int(2.22), int(2.9), int(2.5)"
   ]
  },
  {
   "cell_type": "code",
   "execution_count": 48,
   "id": "58580876-45e7-41e3-9e82-8f6197f56b09",
   "metadata": {},
   "outputs": [
    {
     "name": "stdout",
     "output_type": "stream",
     "text": [
      "(1, 1) 1\n",
      "(2, 2) 2\n",
      "(1, 1) 1\n",
      "(2, 2) 2\n"
     ]
    }
   ],
   "source": [
    "d1 = {}\n",
    "d1[(1,1)] = 1\n",
    "d1[(2,2)] = 2\n",
    "for key in d1.keys():\n",
    "    print(key, d1[key])\n",
    "    \n",
    "for key, ele in d1.items():\n",
    "    print(key, ele)"
   ]
  },
  {
   "cell_type": "code",
   "execution_count": 51,
   "id": "3bcde256-3d5f-4037-a69b-25592381ebc1",
   "metadata": {},
   "outputs": [
    {
     "data": {
      "text/plain": [
       "[(1, 1), (2, 2)]"
      ]
     },
     "execution_count": 51,
     "metadata": {},
     "output_type": "execute_result"
    }
   ],
   "source": []
  },
  {
   "cell_type": "code",
   "execution_count": 25,
   "id": "5faae702-af8c-4f41-876a-d41a9f270572",
   "metadata": {},
   "outputs": [],
   "source": [
    "import numpy as np\n",
    "np.typeDict = np.sctypeDict\n",
    "np.int = np.intc\n",
    "\n",
    "from typing import List\n",
    "\n",
    "from aido_schemas import Context, FriendlyPose\n",
    "from dt_protocols import (\n",
    "    PlacedPrimitive,\n",
    "    PlanningQuery, PlanningResult, PlanningSetup, PlanStep, Rectangle,\n",
    ")\n",
    "\n",
    "__all__ = [\"Planner\"]\n",
    "\n",
    "\n",
    "\n",
    "from dt_protocols import (\n",
    "    Circle,\n",
    "    CollisionCheckQuery,\n",
    "    CollisionCheckResult,\n",
    "    MapDefinition,\n",
    "    Rectangle,\n",
    ")\n",
    "\n",
    "from collision_checker import *\n",
    "\n",
    "straight = PlanStep(duration=1.0, angular_velocity_deg_s=0.0,\n",
    "                            velocity_x_m_s=1.0)"
   ]
  },
  {
   "cell_type": "code",
   "execution_count": 40,
   "id": "258c966e-6f3a-4ac5-9d58-f6867e8bd05b",
   "metadata": {},
   "outputs": [
    {
     "data": {
      "text/plain": [
       "(NodeView(((0, 0), (1, 1), '0', (0, 1), 't', (1, 0))),\n",
       " OutEdgeView([('0', (0, 1)), ((0, 1), '0'), ((0, 1), 't'), ((0, 1), (1, 0)), ((1, 0), 't')]))"
      ]
     },
     "execution_count": 40,
     "metadata": {},
     "output_type": "execute_result"
    }
   ],
   "source": [
    "import networkx as nx\n",
    "\n",
    "G = nx.DiGraph()\n",
    "\n",
    "G.add_node((0,0), circle = straight)\n",
    "G.add_node((1,1))\n",
    "\n",
    "G.add_edge(\"0\", (0,1), weight=1, planstep = straight);\n",
    "G.add_edge((0,1), \"0\",  weight=1, planstep = straight);\n",
    "G.add_edge((0,1), \"t\", weight=3);\n",
    "G.add_edge((0,1), (1,0), weight=4);\n",
    "G.add_edge((1,0), \"t\", weight=2);\n",
    "G.nodes(), G.edges()\n",
    "# G\n"
   ]
  },
  {
   "cell_type": "code",
   "execution_count": 54,
   "id": "4f8d4cca-a720-4f8d-8c09-f4a0e7c35c8e",
   "metadata": {},
   "outputs": [
    {
     "name": "stdout",
     "output_type": "stream",
     "text": [
      "a =====  2\n"
     ]
    }
   ],
   "source": [
    "a = 0\n",
    "try:\n",
    "    path = nx.shortest_path(G, \"0\", (0,0))\n",
    "    a = 1\n",
    "    print(a, path)\n",
    "except:\n",
    "    a = 2\n",
    "    print(\"a ===== \",a)"
   ]
  },
  {
   "cell_type": "code",
   "execution_count": 55,
   "id": "b778f54f-2ce3-4775-8a01-b5dcf597ce94",
   "metadata": {},
   "outputs": [
    {
     "name": "stdout",
     "output_type": "stream",
     "text": [
      "['0', (0, 1), 't']\n"
     ]
    }
   ],
   "source": [
    "path = nx.shortest_path(G, \"0\", \"t\")\n",
    "print(path)"
   ]
  },
  {
   "cell_type": "code",
   "execution_count": 42,
   "id": "428256eb-f08a-49a0-bc32-61299d64a026",
   "metadata": {},
   "outputs": [
    {
     "data": {
      "text/plain": [
       "{'weight': 1,\n",
       " 'planstep': \u001b[31mPlanStep\u001b[0m\u001b[34m(\u001b[0m\u001b[2mduration\u001b[0m\u001b[34m=\u001b[0m1.0\u001b[34m, \u001b[0m\u001b[2mvelocity_x_m_s\u001b[0m\u001b[34m=\u001b[0m1.0\u001b[34m, \u001b[0m\u001b[2mangular_velocity_deg_s\u001b[0m\u001b[34m=\u001b[0m0.0\u001b[34m)\u001b[0m}"
      ]
     },
     "execution_count": 42,
     "metadata": {},
     "output_type": "execute_result"
    }
   ],
   "source": [
    "G.get_edge_data('0', (0,1))"
   ]
  },
  {
   "cell_type": "code",
   "execution_count": 43,
   "id": "9990cc96-8793-4c80-8395-ed1fe849b93f",
   "metadata": {},
   "outputs": [
    {
     "data": {
      "text/plain": [
       "{'circle': \u001b[31mPlanStep\u001b[0m\u001b[34m(\u001b[0m\u001b[2mduration\u001b[0m\u001b[34m=\u001b[0m1.0\u001b[34m, \u001b[0m\u001b[2mvelocity_x_m_s\u001b[0m\u001b[34m=\u001b[0m1.0\u001b[34m, \u001b[0m\u001b[2mangular_velocity_deg_s\u001b[0m\u001b[34m=\u001b[0m0.0\u001b[34m)\u001b[0m}"
      ]
     },
     "execution_count": 43,
     "metadata": {},
     "output_type": "execute_result"
    }
   ],
   "source": [
    "G.nodes[(0,0)]"
   ]
  },
  {
   "cell_type": "code",
   "execution_count": 44,
   "id": "0bb33843-92ca-4d0d-9cc5-0f1faf64ba79",
   "metadata": {},
   "outputs": [
    {
     "data": {
      "text/plain": [
       "{'weight': 1,\n",
       " 'planstep': \u001b[31mPlanStep\u001b[0m\u001b[34m(\u001b[0m\u001b[2mduration\u001b[0m\u001b[34m=\u001b[0m1.0\u001b[34m, \u001b[0m\u001b[2mvelocity_x_m_s\u001b[0m\u001b[34m=\u001b[0m1.0\u001b[34m, \u001b[0m\u001b[2mangular_velocity_deg_s\u001b[0m\u001b[34m=\u001b[0m0.0\u001b[34m)\u001b[0m}"
      ]
     },
     "execution_count": 44,
     "metadata": {},
     "output_type": "execute_result"
    }
   ],
   "source": [
    "G.get_edge_data((0,1), '0')"
   ]
  },
  {
   "cell_type": "code",
   "execution_count": 56,
   "id": "531dc6e5-09af-4c0c-b163-799fd766e62c",
   "metadata": {},
   "outputs": [
    {
     "data": {
      "text/plain": [
       "dict"
      ]
     },
     "execution_count": 56,
     "metadata": {},
     "output_type": "execute_result"
    }
   ],
   "source": [
    "type(G.get_edge_data((0,1), '0'))"
   ]
  },
  {
   "cell_type": "code",
   "execution_count": 39,
   "id": "aeb71fa7-5771-4cb1-928d-588e6962cb03",
   "metadata": {},
   "outputs": [
    {
     "data": {
      "text/plain": [
       "({(0, 1)}, {(0, 0), (0, 1), (1, 0), (1, 1)})"
      ]
     },
     "execution_count": 39,
     "metadata": {},
     "output_type": "execute_result"
    }
   ],
   "source": [
    "s_transit = set([(0,0),(0,1),(1,0),(1,1)])\n",
    "\n",
    "s01 = set([(0,1), (0,0)])\n",
    "s1t = set([(0,1),(1,0)])\n",
    "su = s01.union(s1t).union(s_transit)\n",
    "s_int = s01.intersection(s1t)\n",
    "s_int, su"
   ]
  },
  {
   "cell_type": "code",
   "execution_count": 46,
   "id": "41f22ddf-00ea-4cbc-bfa1-5a842422a501",
   "metadata": {},
   "outputs": [
    {
     "data": {
      "text/plain": [
       "{(0, 0), (0, 1)}"
      ]
     },
     "execution_count": 46,
     "metadata": {},
     "output_type": "execute_result"
    }
   ],
   "source": [
    "s01 = set([(0,1), (0,0)])\n",
    "stemp = s01 - set([(0,1)])\n",
    "s01"
   ]
  },
  {
   "cell_type": "code",
   "execution_count": 60,
   "id": "1149f24c-c4b1-4b82-93f2-7a6aacb37ef5",
   "metadata": {},
   "outputs": [
    {
     "name": "stdout",
     "output_type": "stream",
     "text": [
      "2\n",
      "0 10\n",
      "2\n",
      "1 20\n"
     ]
    }
   ],
   "source": [
    "l1= [10,20]\n",
    "for i in range(len(l1)):\n",
    "    print(len(l1))\n",
    "    print(i, l1[i])"
   ]
  },
  {
   "cell_type": "code",
   "execution_count": null,
   "id": "df671f95-4af1-437e-b8f2-d06837d40f3b",
   "metadata": {},
   "outputs": [],
   "source": []
  }
 ],
 "metadata": {
  "kernelspec": {
   "display_name": "Python 3 (ipykernel)",
   "language": "python",
   "name": "python3"
  },
  "language_info": {
   "codemirror_mode": {
    "name": "ipython",
    "version": 3
   },
   "file_extension": ".py",
   "mimetype": "text/x-python",
   "name": "python",
   "nbconvert_exporter": "python",
   "pygments_lexer": "ipython3",
   "version": "3.8.10"
  }
 },
 "nbformat": 4,
 "nbformat_minor": 5
}
